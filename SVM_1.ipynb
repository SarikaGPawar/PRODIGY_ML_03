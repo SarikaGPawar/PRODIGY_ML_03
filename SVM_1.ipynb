{
 "cells": [
  {
   "cell_type": "code",
   "execution_count": 88,
   "id": "5831c671-faf0-47be-b70a-6ea2d95d5e37",
   "metadata": {},
   "outputs": [],
   "source": [
    "import os\n",
    "import numpy as np\n",
    "import cv2\n",
    "import matplotlib.pyplot as plt\n",
    "import pickle\n",
    "import random\n",
    "from sklearn.model_selection import train_test_split\n",
    "from sklearn.svm import SVC"
   ]
  },
  {
   "cell_type": "code",
   "execution_count": 89,
   "id": "2fd0f1df-3dac-48d1-903e-34a9580d5f08",
   "metadata": {},
   "outputs": [
    {
     "name": "stdout",
     "output_type": "stream",
     "text": [
      "140\n"
     ]
    }
   ],
   "source": [
    "dir=\"C:\\\\ML DS\\\\test\"\n",
    "categories=['dogs','cats']\n",
    "data=[]\n",
    "for category in categories:\n",
    "    path=os.path.join(dir,category)\n",
    "    label=categories.index(category)\n",
    "\n",
    "    for img in os.listdir(path):\n",
    "        imgpath=os.path.join(path,img)\n",
    "        pet_img=cv2.imread(imgpath,0)\n",
    "        try:\n",
    "            pet_img=cv2.resize(pet_img,(50,50))\n",
    "            image=np.array(pet_img).flatten()\n",
    "\n",
    "            data.append([image,label])\n",
    "        except Exception as e:\n",
    "            pass\n",
    "pick_in=open('data.pickle','wb')\n",
    "pickle.dump(data,pick_in)\n",
    "pick_in.close()\n",
    "print(len(data))"
   ]
  },
  {
   "cell_type": "code",
   "execution_count": 90,
   "id": "055be4b5-cfcc-4725-849a-69b3e30fa3ff",
   "metadata": {},
   "outputs": [],
   "source": [
    "pick_in=open('data.pickle','rb')\n",
    "data=pickle.load(pick_in)\n",
    "pick_in.close()"
   ]
  },
  {
   "cell_type": "code",
   "execution_count": 91,
   "id": "00bfa3e1-bd4b-4430-b690-033d99e8ead9",
   "metadata": {},
   "outputs": [],
   "source": [
    "random.shuffle(data)\n",
    "features=[]\n",
    "labels=[]\n",
    "for feature,label in data:\n",
    "    features.append(feature)\n",
    "    labels.append(label)\n",
    "\n",
    "\n",
    "\n",
    "\n"
   ]
  },
  {
   "cell_type": "code",
   "execution_count": 95,
   "id": "bc21e7cd-99f9-4aa5-8e75-853faf50a618",
   "metadata": {},
   "outputs": [
    {
     "name": "stdout",
     "output_type": "stream",
     "text": [
      "Accuracy: 1.0\n",
      "prediction is: cats\n"
     ]
    },
    {
     "data": {
      "image/png": "[encoded data removed]",
      "text/plain": [
       "<Figure size 640x480 with 1 Axes>"
      ]
     },
     "metadata": {},
     "output_type": "display_data"
    }
   ],
   "source": [
    " xtrain,xtest,ytrain,ytest = train_test_split(features, labels, test_size = 0.01)\n",
    "# model = SVC(C=1,kernel = 'poly',gamma = 'auto')\n",
    "# model.fit(xtrain,ytrain)\n",
    "pick=open('model.sav','rb')\n",
    "model=pickle.load(pick)\n",
    "pick.close()\n",
    "prediction=model.predict(xtest)\n",
    "accuracy=model.score(xtest,ytest)\n",
    "\n",
    "categories=['dogs','cats']\n",
    "print('Accuracy:',accuracy)\n",
    "print('prediction is:',categories[prediction[0]])\n",
    "\n",
    "mypet=xtest[0].reshape(50,50)\n",
    "plt.imshow(mypet,cmap='gray')\n",
    "plt.show()"
   ]
  }
 ],
 "metadata": {
  "kernelspec": {
   "display_name": "Python 3 (ipykernel)",
   "language": "python",
   "name": "python3"
  },
  "language_info": {
   "codemirror_mode": {
    "name": "ipython",
    "version": 3
   },
   "file_extension": ".py",
   "mimetype": "text/x-python",
   "name": "python",
   "nbconvert_exporter": "python",
   "pygments_lexer": "ipython3",
   "version": "3.13.5"
  }
 },
 "nbformat": 4,
 "nbformat_minor": 5
}
